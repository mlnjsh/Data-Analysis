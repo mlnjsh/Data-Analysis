{
 "cells": [
  {
   "cell_type": "markdown",
   "metadata": {
    "id": "N1nILhghWwN1"
   },
   "source": [
    "<table align=\"left\" width=100%>\n",
    "    <tr>\n",
    "        <td width=\"20%\">\n",
    "            <img src=\"New_GL_Logo.png\">\n",
    "        </td>\n",
    "        <td>\n",
    "            <div align=\"center\">\n",
    "                <font color=\"#21618C\" size=8px>\n",
    "                  <b> Faculty Notebook <br> (Day 1) </b>\n",
    "                </font>\n",
    "            </div>\n",
    "        </td>\n",
    "    </tr>\n",
    "</table>"
   ]
  },
  {
   "cell_type": "markdown",
   "metadata": {
    "id": "j9NBI0JNWwN3"
   },
   "source": [
    "## Table of Content\n",
    "\n",
    "1. **[Python Variables](#variables)**\n",
    "2. **[Data Types](#type)**\n",
    "    - 2.1 - [Numbers](#num)\n",
    "    - 2.2 - [Strings](#str)\n",
    "    - 2.3 - [Boolean](#bool)\n",
    "3. **[Type Conversion](#typecon)**\n",
    "4. **[Python print()](#print)**\n",
    "5. **[User Input](#uinput)**\n",
    "6. **[Python Operators](#oper)**\n",
    "    - 6.1 - [Arithmetic Operator](#arith)\n",
    "    - 6.2 - [Comparison Operator](#comp)\n",
    "    - 6.3 - [Assignment Operator](#assign)\n",
    "    - 6.4 - [Logical Operator](#logic)\n",
    "    - 6.5 - [Membership Operator](#member)\n",
    "    - 6.6 - [Bitwise Operator](#bitwise)\n",
    "7. **[Python Flow Control](#pfc)**\n",
    "    - 7.1 - [if - statement](#condition)\n",
    "    - 7.2 - [while- loop](#while)\n",
    "    - 7.3 - [for- loop](#for)\n",
    "8. **[Pseudocode](#pseudo)**"
   ]
  },
  {
   "cell_type": "markdown",
   "metadata": {
    "id": "ftCxC4m1WwN4"
   },
   "source": [
    "<a id=\"variables\"> </a>\n",
    "## Python Variables"
   ]
  },
  {
   "cell_type": "markdown",
   "metadata": {
    "id": "rasbaLIbWwN5"
   },
   "source": [
    "<table align=\"left\">\n",
    "    <tr>\n",
    "        <td width=\"15%\">\n",
    "            <img src=\"note.png\">\n",
    "        </td>\n",
    "        <td>\n",
    "            <div align=\"left\", style=\"font-size:120%\">\n",
    "                <font color=\"#21618C\">\n",
    "                    <b>Variables are nothing but reserved memory locations to store values. This implies that when you create a variable, you hold some space in the memory.<br>\n",
    "                        <br>Based on the data type of a variable, the interpreter allocates memory and decides what can be stored in the reserved memory. Therefore, by assigning different data types to variables, you can store integers, decimals or characters in these variables.\n",
    "                    </b>\n",
    "                </font>\n",
    "            </div>\n",
    "        </td>\n",
    "    </tr>\n",
    "</table>"
   ]
  },
  {
   "cell_type": "markdown",
   "metadata": {
    "id": "loqrEgAPWwN6"
   },
   "source": [
    "#### Declaring and assigning a value to a variable\n",
    "We use the assignment operator  '='  to assign a value to a variable."
   ]
  },
  {
   "cell_type": "code",
   "execution_count": 1,
   "metadata": {
    "id": "EEiXyGNbWwN7"
   },
   "outputs": [
    {
     "name": "stdout",
     "output_type": "stream",
     "text": [
      "30 is an  <class 'int'>\n",
      " a is  <class 'float'>\n",
      "b is  <class 'str'>\n",
      " c is <class 'bool'>\n"
     ]
    }
   ],
   "source": [
    "num = 3\n",
    "a =- 40.2\n",
    "b = \"yes\"\n",
    "d = True\n",
    "print('30 is an ',type(num))\n",
    "print(' a is ',type(a))\n",
    "print('b is ', type(b))\n",
    "print(' c is' ,type(d))"
   ]
  },
  {
   "cell_type": "markdown",
   "metadata": {
    "id": "Rge6hHBdWwN9"
   },
   "source": [
    "The operand to the left of the = operator is the name of the variable and the operand to the right of the = operator is the value stored in the variable. Here, we have created a variabe named 'num' and we have assigned value 30 to 'num' variable."
   ]
  },
  {
   "cell_type": "markdown",
   "metadata": {
    "id": "PKGTWcsRWwN-"
   },
   "source": [
    "#### Multiple assignments\n",
    "Python allows you to assign a single value to several variables simultaneously. For example −"
   ]
  },
  {
   "cell_type": "code",
   "execution_count": 2,
   "metadata": {
    "id": "PRlyM9DOWwN_"
   },
   "outputs": [
    {
     "data": {
      "text/plain": [
       "5"
      ]
     },
     "execution_count": 2,
     "metadata": {},
     "output_type": "execute_result"
    }
   ],
   "source": [
    "# Here, an integer object is created with the value 5, and all three variables are assigned to the same memory location\n",
    "x = y = z = 5\n",
    "z"
   ]
  },
  {
   "cell_type": "markdown",
   "metadata": {
    "id": "65HAH67RWwOB"
   },
   "source": [
    "You can also assign multiple objects to multiple variables"
   ]
  },
  {
   "cell_type": "code",
   "execution_count": 7,
   "metadata": {
    "id": "rOUYRr38WwOB"
   },
   "outputs": [
    {
     "name": "stdout",
     "output_type": "stream",
     "text": [
      "5\n",
      "10.1\n",
      "xyz\n"
     ]
    }
   ],
   "source": [
    "a,b,c = 5,10.1,\"xyz\"\n",
    "print(a)\n",
    "print(b)\n",
    "print(c)"
   ]
  },
  {
   "cell_type": "markdown",
   "metadata": {
    "id": "XcpVNMYeF9Qp"
   },
   "source": [
    "#### Re-assigning a variable"
   ]
  },
  {
   "cell_type": "code",
   "execution_count": null,
   "metadata": {
    "id": "i9okOotLF9Qq",
    "outputId": "beddbce5-a6ac-441b-dd89-b57347a82a37"
   },
   "outputs": [
    {
     "data": {
      "text/plain": [
       "25"
      ]
     },
     "execution_count": 1,
     "metadata": {
      "tags": []
     },
     "output_type": "execute_result"
    }
   ],
   "source": [
    "var1 = 25\n",
    "var2 = \"Arthur\"\n",
    "var2 = var1\n",
    "var2"
   ]
  },
  {
   "cell_type": "markdown",
   "metadata": {
    "id": "-itifEJ3WwOD"
   },
   "source": [
    "### Rules and Naming Conventions\n",
    "<em>\n",
    "<table align=\"left\">\n",
    "    <tr>\n",
    "        <td>\n",
    "            <div align=\"left\", style=\"font-size:125%\">\n",
    "                <font color=\"#21618C\">\n",
    "                    <b>1. Constant and variable names should have a combination of letters in lowercase (a to z) or uppercase (A to Z) or digits (0 to 9) or an underscore(_). For example: <br>\n",
    "                       <br> &emsp; variable_name<br>\n",
    "                        &emsp; VARIABLE_NAME<br>\n",
    "                        &emsp; varName<br>\n",
    "                        &emsp; VariableName<br>\n",
    "                    </b>\n",
    "                    <b><br>2. Create a name that makes sense. For example, variable makes more sense than v  <br>               \n",
    "                    </b>\n",
    "                    <b><br>3. If you want to create a variable name having two words, use underscore to separate them<br>\n",
    "                    </b>\n",
    "                    <b><br>4. Never use special symbols like !, @, #, $, %, etc.<br>\n",
    "                    </b>\n",
    "                    <b><br>5. Do not start a variable name with a digit<br>\n",
    "                    </b>\n",
    "                    <b><br>6. Reserved words (built-in keywords) cannot be used as variable names.<br>\n",
    "                    </b>\n",
    "                </font>\n",
    "            </div>\n",
    "        </td>\n",
    "    </tr>\n",
    "</table>\n",
    "\n",
    "</em>\n"
   ]
  },
  {
   "cell_type": "markdown",
   "metadata": {
    "id": "5vs6q06hWwOE"
   },
   "source": [
    "\n"
   ]
  },
  {
   "cell_type": "markdown",
   "metadata": {
    "id": "ilx9djl-WwOE"
   },
   "source": [
    "<a id = \"type\"></a>\n",
    "## Data Types\n",
    "\n",
    "<table align=\"left\">\n",
    "    <tr>\n",
    "        <td width=\"15%\">\n",
    "            <img src=\"note.png\">\n",
    "        </td>\n",
    "        <td>\n",
    "            <div align=\"left\", style=\"font-size:120%\">\n",
    "                <font color=\"#21618C\">\n",
    "                    <b>A data type is an attribute of data which tells the compiler or interpreter how the programmer intends to use the data. Python supports the following Python data types:<br><br>\n",
    "                        1. Numbers<br>\n",
    "                        2. Strings<br>\n",
    "                        3. Boolean<br>\n",
    "                        4. Lists<br>\n",
    "                        5. Tuples<br>\n",
    "                        6. Dictionaries <br>\n",
    "                        7. Sets\n",
    "                    </b>\n",
    "                </font>\n",
    "            </div>\n",
    "        </td>\n",
    "    </tr>\n",
    "</table>\n",
    "\n",
    "\n"
   ]
  },
  {
   "cell_type": "markdown",
   "metadata": {
    "id": "IZJAzajfWwOF"
   },
   "source": [
    "<a id=\"num\"> </a>\n",
    "### Python Numbers\n",
    "There are four numeric Python data type:<br>\n",
    "a. int (signed integers)<br>\n",
    "b. float (floating point real values)<br>\n",
    "c. long (long integers, they can also be represented in octal and hexadecimal)<br>\n",
    "d. complex (complex numbers)\n",
    "\n",
    "<table>\n",
    "  <tr>\n",
    "  <th>int</th>\n",
    "  <th>float</th>\n",
    "  <th>long</th>\n",
    "  <th>complex</th>\n",
    "  </tr>\n",
    "  <tr>\n",
    "  <td>10</td>\n",
    "  <td>54.4</td>\n",
    "  <td>012345L</td>\n",
    "  <td>2+5j</td>  \n",
    "  </tr>\n",
    "  <tr>\n",
    "  <td>70</td>\n",
    "  <td>0.01</td>\n",
    "  <td>-987652L</td>\n",
    "  <td>1.18j</td>\n",
    "  </tr>\n",
    "  <tr>\n",
    "  <td>-150</td>\n",
    "  <td>1.626e16</td>\n",
    "  <td>10000000000000000</td>\n",
    "  <td>-10j</td>\n",
    "  </tr>\n",
    "  <tr>\n",
    "  <td>0x69</td>\n",
    "  <td>74.15</td>\n",
    "  <td>-4335685298777L</td>\n",
    "  <td>45j</td>\n",
    "  </tr>\n",
    "  <tr>\n",
    "  <td>-0x260</td>\n",
    "  <td>89.33</td>\n",
    "  <td>0348L\t</td>\n",
    "  <td>3e+26J</td>\n",
    "  </tr>\n",
    "</table>"
   ]
  },
  {
   "cell_type": "markdown",
   "metadata": {
    "id": "U6hFAQM8WwOF"
   },
   "source": [
    "#### int\n",
    "'int' stands for integer. This Python Data Type holds signed integers. We can use the type() function to find which class it belongs to."
   ]
  },
  {
   "cell_type": "code",
   "execution_count": null,
   "metadata": {
    "id": "gD08tb_oWwOG",
    "outputId": "ade96d08-412f-400e-89b3-d4d231b486ed"
   },
   "outputs": [
    {
     "data": {
      "text/plain": [
       "int"
      ]
     },
     "execution_count": 84,
     "metadata": {
      "tags": []
     },
     "output_type": "execute_result"
    }
   ],
   "source": [
    "a = -5\n",
    "type(a)"
   ]
  },
  {
   "cell_type": "code",
   "execution_count": null,
   "metadata": {
    "id": "9TEUZuKzWwOJ",
    "outputId": "fd522156-ecc7-4cee-c867-f35772d79445"
   },
   "outputs": [
    {
     "data": {
      "text/plain": [
       "int"
      ]
     },
     "execution_count": 85,
     "metadata": {
      "tags": []
     },
     "output_type": "execute_result"
    }
   ],
   "source": [
    "x = 1000\n",
    "type(a)"
   ]
  },
  {
   "cell_type": "markdown",
   "metadata": {
    "id": "kcwZsEBnWwOL"
   },
   "source": [
    "#### float"
   ]
  },
  {
   "cell_type": "code",
   "execution_count": null,
   "metadata": {
    "id": "gzRxX7LwWwOL",
    "outputId": "50a2e85f-9b5b-41ff-a7a2-1cd437b0217a"
   },
   "outputs": [
    {
     "data": {
      "text/plain": [
       "float"
      ]
     },
     "execution_count": 86,
     "metadata": {
      "tags": []
     },
     "output_type": "execute_result"
    }
   ],
   "source": [
    "a = 1.1\n",
    "type(a)"
   ]
  },
  {
   "cell_type": "code",
   "execution_count": null,
   "metadata": {
    "id": "kxQhtfexWwON",
    "outputId": "2aa0c5e2-ce26-4c35-e3cd-cab2d57a8fbb"
   },
   "outputs": [
    {
     "data": {
      "text/plain": [
       "float"
      ]
     },
     "execution_count": 87,
     "metadata": {
      "tags": []
     },
     "output_type": "execute_result"
    }
   ],
   "source": [
    "x = -3.14\n",
    "type(x)"
   ]
  },
  {
   "cell_type": "code",
   "execution_count": null,
   "metadata": {
    "id": "yvZHGCMZWwOP",
    "outputId": "954f8d05-cd55-4536-c2ec-9b8b9a134008"
   },
   "outputs": [
    {
     "data": {
      "text/plain": [
       "float"
      ]
     },
     "execution_count": 88,
     "metadata": {
      "tags": []
     },
     "output_type": "execute_result"
    }
   ],
   "source": [
    "y = 1.626e16\n",
    "type(y)"
   ]
  },
  {
   "cell_type": "markdown",
   "metadata": {
    "id": "FSSMkUsYWwOQ"
   },
   "source": [
    "#### long"
   ]
  },
  {
   "cell_type": "code",
   "execution_count": 8,
   "metadata": {
    "id": "D4mAkQ29WwOR",
    "outputId": "b4318e62-cceb-4420-a580-b6c120792829"
   },
   "outputs": [
    {
     "data": {
      "text/plain": [
       "int"
      ]
     },
     "execution_count": 8,
     "metadata": {},
     "output_type": "execute_result"
    }
   ],
   "source": [
    "x =999999999999999999999999999999999999999999999\n",
    "type(x)"
   ]
  },
  {
   "cell_type": "markdown",
   "metadata": {
    "id": "KUu1KWCuWwOT"
   },
   "source": [
    "<table align=\"left\">\n",
    "    <tr>\n",
    "        <td width=\"7%\">\n",
    "            <img src=\"caution.png\">\n",
    "        </td>\n",
    "        <td>\n",
    "            <div align=\"left\", style=\"font-size:120%\">\n",
    "                <font color=\"#21618C\">\n",
    "                    <b>This construct does not exist in Python 3.x.\n",
    "                    </b>\n",
    "                </font>\n",
    "            </div>\n",
    "        </td>\n",
    "    </tr>\n",
    "</table>"
   ]
  },
  {
   "cell_type": "markdown",
   "metadata": {
    "id": "apmbFzZHWwOT"
   },
   "source": [
    "#### complex"
   ]
  },
  {
   "cell_type": "code",
   "execution_count": null,
   "metadata": {
    "id": "gp5-Bm5MWwOU",
    "outputId": "ceaa2e45-cc0a-455e-99f5-ea5b01fd0095"
   },
   "outputs": [
    {
     "data": {
      "text/plain": [
       "complex"
      ]
     },
     "execution_count": 90,
     "metadata": {
      "tags": []
     },
     "output_type": "execute_result"
    }
   ],
   "source": [
    "x = 3+4j\n",
    "type(x)"
   ]
  },
  {
   "cell_type": "code",
   "execution_count": null,
   "metadata": {
    "id": "tgyMwLLCWwOW",
    "outputId": "06b79a2a-6831-4bf1-cf6e-eaa3ca7d73d7"
   },
   "outputs": [
    {
     "data": {
      "text/plain": [
       "complex"
      ]
     },
     "execution_count": 91,
     "metadata": {
      "tags": []
     },
     "output_type": "execute_result"
    }
   ],
   "source": [
    "y = 3e+4j\n",
    "type(y)"
   ]
  },
  {
   "cell_type": "markdown",
   "metadata": {
    "id": "T41pYrW8WwOX"
   },
   "source": [
    "<a id=\"str\"> </a>\n",
    "### Python Strings"
   ]
  },
  {
   "cell_type": "markdown",
   "metadata": {
    "id": "RSA1gdoeWwOY"
   },
   "source": [
    "A string is a sequence of characters. Python does not have a <em>char</em> data type, unlike C++ or Java. You can delimit a string using single quotes('string') or double-quotes(\"string\")."
   ]
  },
  {
   "cell_type": "code",
   "execution_count": 9,
   "metadata": {
    "id": "XrVRb1yqWwOY",
    "outputId": "fc090ff7-5951-4de8-ee1b-47101d33c0a8"
   },
   "outputs": [
    {
     "data": {
      "text/plain": [
       "'Introduction to Python'"
      ]
     },
     "execution_count": 9,
     "metadata": {},
     "output_type": "execute_result"
    }
   ],
   "source": [
    "string = \"Introduction to Python\"\n",
    "string"
   ]
  },
  {
   "cell_type": "markdown",
   "metadata": {
    "id": "xX5bTc8aWwOa"
   },
   "source": [
    "The plus (+) sign is the string concatenation operator and the asterisk (*) is the repetition operator."
   ]
  },
  {
   "cell_type": "code",
   "execution_count": 10,
   "metadata": {
    "id": "I7T09aV_WwOb",
    "outputId": "3b91dc6d-6051-4777-c46c-4443bb855690"
   },
   "outputs": [
    {
     "data": {
      "text/plain": [
       "'HirePrice'"
      ]
     },
     "execution_count": 10,
     "metadata": {},
     "output_type": "execute_result"
    }
   ],
   "source": [
    "str1 = \"Hire\"\n",
    "str2 = \"Price\"\n",
    "str3 = str1+str2\n",
    "str3                      # Prints concatenated string"
   ]
  },
  {
   "cell_type": "code",
   "execution_count": 11,
   "metadata": {
    "id": "YgJ_RdB_WwOd",
    "outputId": "d3efea17-5441-467e-de0b-7f445af4afe5"
   },
   "outputs": [
    {
     "data": {
      "text/plain": [
       "'HirePriceHirePriceHirePrice'"
      ]
     },
     "execution_count": 11,
     "metadata": {},
     "output_type": "execute_result"
    }
   ],
   "source": [
    "str3*3                    # Prints string three times"
   ]
  },
  {
   "cell_type": "markdown",
   "metadata": {
    "id": "EffJINZpWwOf"
   },
   "source": [
    "<table align=\"left\">\n",
    "    <tr>\n",
    "        <td width=\"7%\">\n",
    "            <img src=\"caution.png\">\n",
    "        </td>\n",
    "        <td>\n",
    "            <div align=\"left\", style=\"font-size:120%\">\n",
    "                <font color=\"#21618C\">\n",
    "                    <b>You cannot use the minus(-) operator and the division(/) operator on strings.\n",
    "                    </b>\n",
    "                </font>\n",
    "            </div>\n",
    "        </td>\n",
    "    </tr>\n",
    "</table>"
   ]
  },
  {
   "cell_type": "markdown",
   "metadata": {
    "id": "D3D5pz2TWwOf"
   },
   "source": [
    "Subsets of strings can be taken using the slice operator ([ ]). You can display a character from a string using its index in the string. Remember, indexing starts with 0."
   ]
  },
  {
   "cell_type": "code",
   "execution_count": 16,
   "metadata": {
    "id": "FcOZ-f9SWwOh",
    "outputId": "e20d366c-6b65-46b2-a525-b8cb31bf27ee"
   },
   "outputs": [
    {
     "data": {
      "text/plain": [
       "'n'"
      ]
     },
     "execution_count": 16,
     "metadata": {},
     "output_type": "execute_result"
    }
   ],
   "source": [
    "string = \"Introduction to Python\"\n",
    "string[1]                 # Prints sixth character of the string"
   ]
  },
  {
   "cell_type": "markdown",
   "metadata": {
    "id": "rmacECWIWwOj"
   },
   "source": [
    "You can also display a burst of characters in a string using the slicing operator with indexes starting at 0 in the beginning of the string and working their way from -1 at the end."
   ]
  },
  {
   "cell_type": "code",
   "execution_count": null,
   "metadata": {
    "id": "JDHvadR_WwOj",
    "outputId": "0534a17e-8ff8-4aa7-d99b-700577d292e0"
   },
   "outputs": [
    {
     "data": {
      "text/plain": [
       "'to Python'"
      ]
     },
     "execution_count": 96,
     "metadata": {
      "tags": []
     },
     "output_type": "execute_result"
    }
   ],
   "source": [
    "string[13:22]             # Prints characters starting from 14th to 21st character"
   ]
  },
  {
   "cell_type": "markdown",
   "metadata": {
    "id": "lqGsgw_6WwOl"
   },
   "source": [
    "Strings are <em>immutable</em>. The following line of code will generate an error"
   ]
  },
  {
   "cell_type": "code",
   "execution_count": null,
   "metadata": {
    "id": "SGqCKsZBWwOl",
    "outputId": "09e4b162-a296-4c68-8e8a-f6a6f703a231"
   },
   "outputs": [
    {
     "ename": "TypeError",
     "evalue": "'str' object does not support item assignment",
     "output_type": "error",
     "traceback": [
      "\u001b[1;31m---------------------------------------------------------------------------\u001b[0m",
      "\u001b[1;31mTypeError\u001b[0m                                 Traceback (most recent call last)",
      "\u001b[1;32m<ipython-input-97-a6a6beb9662d>\u001b[0m in \u001b[0;36m<module>\u001b[1;34m()\u001b[0m\n\u001b[1;32m----> 1\u001b[1;33m \u001b[0mstring\u001b[0m\u001b[1;33m[\u001b[0m\u001b[1;36m0\u001b[0m\u001b[1;33m]\u001b[0m \u001b[1;33m=\u001b[0m \u001b[1;34m'P'\u001b[0m\u001b[1;33m\u001b[0m\u001b[0m\n\u001b[0m",
      "\u001b[1;31mTypeError\u001b[0m: 'str' object does not support item assignment"
     ]
    }
   ],
   "source": [
    "string[0] = 'P'"
   ]
  },
  {
   "cell_type": "markdown",
   "metadata": {
    "id": "pfuknDsgF9Rn"
   },
   "source": [
    "<a id=\"bool\"> </a>\n",
    "### Python Boolean\n",
    "In Python programming language, the Boolean datatype is a primitive datatype having one of two values: **True** or **False**. It is often a result of some conditions"
   ]
  },
  {
   "cell_type": "code",
   "execution_count": null,
   "metadata": {
    "id": "MZWZ-vhsF9Ro",
    "outputId": "0bdb7701-cbab-4cd5-b406-b53fdb925c61"
   },
   "outputs": [
    {
     "data": {
      "text/plain": [
       "bool"
      ]
     },
     "execution_count": 1,
     "metadata": {
      "tags": []
     },
     "output_type": "execute_result"
    }
   ],
   "source": [
    "var = True\n",
    "type(var)"
   ]
  },
  {
   "cell_type": "code",
   "execution_count": null,
   "metadata": {
    "id": "-tO6lz15F9Rs",
    "outputId": "1ddfb75b-2e42-4453-dd86-1c082efe98c4"
   },
   "outputs": [
    {
     "name": "stdout",
     "output_type": "stream",
     "text": [
      "True\n"
     ]
    }
   ],
   "source": [
    "print(10 > 9)"
   ]
  },
  {
   "cell_type": "code",
   "execution_count": null,
   "metadata": {
    "id": "uY2vZtqyF9Ru",
    "outputId": "d1c03e29-5873-4587-b192-09b38d0c68fe"
   },
   "outputs": [
    {
     "name": "stdout",
     "output_type": "stream",
     "text": [
      "False\n"
     ]
    }
   ],
   "source": [
    "print(10 == 9)"
   ]
  },
  {
   "cell_type": "code",
   "execution_count": null,
   "metadata": {
    "id": "jGgdNUGJF9Rw",
    "outputId": "27b9aa82-0b3c-4b65-b67a-445d7027492a"
   },
   "outputs": [
    {
     "name": "stdout",
     "output_type": "stream",
     "text": [
      "False\n"
     ]
    }
   ],
   "source": [
    "print(10 < 9)"
   ]
  },
  {
   "cell_type": "markdown",
   "metadata": {
    "id": "EVRWwplyWwPK"
   },
   "source": [
    "<a id=\"typecon\"> </a>\n",
    "## Type Conversion\n",
    "Since Python is dynamically-typed, you may want to convert a value into another type. Python supports different type conversion functions like int(), float(), str() etc."
   ]
  },
  {
   "cell_type": "markdown",
   "metadata": {
    "id": "boCcUiw1WwPK"
   },
   "source": [
    "#### float()\n",
    "It converts the passed value into a float."
   ]
  },
  {
   "cell_type": "code",
   "execution_count": null,
   "metadata": {
    "id": "rs0NOMBhWwPK",
    "outputId": "52da70b0-090c-4e56-9935-e14b68b2a703"
   },
   "outputs": [
    {
     "data": {
      "text/plain": [
       "11.0"
      ]
     },
     "execution_count": 121,
     "metadata": {
      "tags": []
     },
     "output_type": "execute_result"
    }
   ],
   "source": [
    "float(11)"
   ]
  },
  {
   "cell_type": "markdown",
   "metadata": {
    "id": "hz5JQDNDWwPM"
   },
   "source": [
    "You can turn a Boolean into an float."
   ]
  },
  {
   "cell_type": "code",
   "execution_count": null,
   "metadata": {
    "id": "f7ha7y1HWwPM",
    "outputId": "0624d15b-8351-493b-9c1d-d000714b64da"
   },
   "outputs": [
    {
     "data": {
      "text/plain": [
       "1.0"
      ]
     },
     "execution_count": 122,
     "metadata": {
      "tags": []
     },
     "output_type": "execute_result"
    }
   ],
   "source": [
    "float (True)"
   ]
  },
  {
   "cell_type": "code",
   "execution_count": null,
   "metadata": {
    "id": "yGg2az2cWwPN",
    "outputId": "44c3a792-a3d8-4a5b-baa3-98c2cc6cb807"
   },
   "outputs": [
    {
     "data": {
      "text/plain": [
       "0.0"
      ]
     },
     "execution_count": 123,
     "metadata": {
      "tags": []
     },
     "output_type": "execute_result"
    }
   ],
   "source": [
    "float(False)"
   ]
  },
  {
   "cell_type": "markdown",
   "metadata": {
    "id": "0-kWsn3OWwPP"
   },
   "source": [
    "You cannot turn a string into an float. It throws an error. However, if the string has only numbers, then you can."
   ]
  },
  {
   "cell_type": "code",
   "execution_count": null,
   "metadata": {
    "id": "VXcZNILHWwPP",
    "outputId": "5dd4ae2b-f9e0-4369-aaa5-1f49049554d8"
   },
   "outputs": [
    {
     "ename": "ValueError",
     "evalue": "could not convert string to float: 'abc'",
     "output_type": "error",
     "traceback": [
      "\u001b[1;31m---------------------------------------------------------------------------\u001b[0m",
      "\u001b[1;31mValueError\u001b[0m                                Traceback (most recent call last)",
      "\u001b[1;32m<ipython-input-125-9cb0f8ff15e7>\u001b[0m in \u001b[0;36m<module>\u001b[1;34m()\u001b[0m\n\u001b[1;32m----> 1\u001b[1;33m \u001b[0mfloat\u001b[0m\u001b[1;33m(\u001b[0m\u001b[1;34m\"abc\"\u001b[0m\u001b[1;33m)\u001b[0m\u001b[1;33m\u001b[0m\u001b[0m\n\u001b[0m",
      "\u001b[1;31mValueError\u001b[0m: could not convert string to float: 'abc'"
     ]
    }
   ],
   "source": [
    "float(\"abc\")"
   ]
  },
  {
   "cell_type": "code",
   "execution_count": 17,
   "metadata": {
    "id": "RobCesd6WwPQ",
    "outputId": "02611a62-8a68-4042-a519-76a3b981976f"
   },
   "outputs": [
    {
     "data": {
      "text/plain": [
       "11.0"
      ]
     },
     "execution_count": 17,
     "metadata": {},
     "output_type": "execute_result"
    }
   ],
   "source": [
    "float(\"11\")"
   ]
  },
  {
   "cell_type": "code",
   "execution_count": 23,
   "metadata": {},
   "outputs": [
    {
     "data": {
      "text/plain": [
       "0.01"
      ]
     },
     "execution_count": 23,
     "metadata": {},
     "output_type": "execute_result"
    }
   ],
   "source": [
    "1e-2 # 10^(-2)"
   ]
  },
  {
   "cell_type": "code",
   "execution_count": 28,
   "metadata": {},
   "outputs": [
    {
     "data": {
      "text/plain": [
       "0.00224"
      ]
     },
     "execution_count": 28,
     "metadata": {},
     "output_type": "execute_result"
    }
   ],
   "source": [
    "2.24e-3"
   ]
  },
  {
   "cell_type": "code",
   "execution_count": null,
   "metadata": {
    "id": "YAl_VbkJWwPR",
    "outputId": "8ff813ee-0f8f-497a-8230-5a1d4749ba49"
   },
   "outputs": [
    {
     "data": {
      "text/plain": [
       "0.0224"
      ]
     },
     "execution_count": 127,
     "metadata": {
      "tags": []
     },
     "output_type": "execute_result"
    }
   ],
   "source": [
    "#You can also use ‘e’ to denote an exponential number\n",
    "\n",
    "float(\"2.24e-2\")           #this number works even without the float() function"
   ]
  },
  {
   "cell_type": "markdown",
   "metadata": {
    "id": "ECm0OUL8WwPS"
   },
   "source": [
    "#### int"
   ]
  },
  {
   "cell_type": "markdown",
   "metadata": {
    "id": "PkU5JhzOWwPT"
   },
   "source": [
    "Conversion from float to int will round-off the value (make it closer to zero)."
   ]
  },
  {
   "cell_type": "code",
   "execution_count": null,
   "metadata": {
    "id": "D4zY6JVOWwPT",
    "outputId": "02024a67-3579-46ab-df41-000026f1439e"
   },
   "outputs": [
    {
     "data": {
      "text/plain": [
       "11"
      ]
     },
     "execution_count": 128,
     "metadata": {
      "tags": []
     },
     "output_type": "execute_result"
    }
   ],
   "source": [
    "int(11.7)"
   ]
  },
  {
   "cell_type": "code",
   "execution_count": null,
   "metadata": {
    "id": "8jyuaJh6WwPU",
    "outputId": "c84a8406-e8fe-4a2e-b38e-d398c1051b5b"
   },
   "outputs": [
    {
     "data": {
      "text/plain": [
       "-11"
      ]
     },
     "execution_count": 129,
     "metadata": {
      "tags": []
     },
     "output_type": "execute_result"
    }
   ],
   "source": [
    "int(-11.7)"
   ]
  },
  {
   "cell_type": "markdown",
   "metadata": {
    "id": "fhMAZgkhWwPV"
   },
   "source": [
    " You can also turn a Boolean into an int."
   ]
  },
  {
   "cell_type": "code",
   "execution_count": null,
   "metadata": {
    "id": "kMzj0ZoKWwPV",
    "outputId": "f0eec7ac-8f1b-45d9-8e96-d558420e94db"
   },
   "outputs": [
    {
     "data": {
      "text/plain": [
       "1"
      ]
     },
     "execution_count": 130,
     "metadata": {
      "tags": []
     },
     "output_type": "execute_result"
    }
   ],
   "source": [
    "int(True)"
   ]
  },
  {
   "cell_type": "code",
   "execution_count": null,
   "metadata": {
    "id": "kNhtLwoLWwPW",
    "outputId": "ec1cfb8e-4380-4743-afa4-e3db7a743a5d"
   },
   "outputs": [
    {
     "data": {
      "text/plain": [
       "0"
      ]
     },
     "execution_count": 131,
     "metadata": {
      "tags": []
     },
     "output_type": "execute_result"
    }
   ],
   "source": [
    "int(False)"
   ]
  },
  {
   "cell_type": "markdown",
   "metadata": {
    "id": "fFIzQUxDWwPb"
   },
   "source": [
    "You cannot turn a string into an int. It throws an error. However, if the string has only numbers, then you can."
   ]
  },
  {
   "cell_type": "code",
   "execution_count": null,
   "metadata": {
    "id": "a1_NU2oRWwPb",
    "outputId": "9f98b2ec-fcca-4b0e-8cc0-7fbc0d3749a8"
   },
   "outputs": [
    {
     "ename": "ValueError",
     "evalue": "invalid literal for int() with base 10: 'GL'",
     "output_type": "error",
     "traceback": [
      "\u001b[1;31m---------------------------------------------------------------------------\u001b[0m",
      "\u001b[1;31mValueError\u001b[0m                                Traceback (most recent call last)",
      "\u001b[1;32m<ipython-input-132-65e8fd23cdca>\u001b[0m in \u001b[0;36m<module>\u001b[1;34m()\u001b[0m\n\u001b[1;32m----> 1\u001b[1;33m \u001b[0mint\u001b[0m\u001b[1;33m(\u001b[0m\u001b[1;34m\"GL\"\u001b[0m\u001b[1;33m)\u001b[0m\u001b[1;33m\u001b[0m\u001b[0m\n\u001b[0m",
      "\u001b[1;31mValueError\u001b[0m: invalid literal for int() with base 10: 'GL'"
     ]
    }
   ],
   "source": [
    "int(\"GL\")"
   ]
  },
  {
   "cell_type": "code",
   "execution_count": null,
   "metadata": {
    "id": "NxvVDVzDWwPd",
    "outputId": "d1b13bba-82de-4ded-dfe5-33ab9d2a85e2"
   },
   "outputs": [
    {
     "data": {
      "text/plain": [
       "11"
      ]
     },
     "execution_count": 133,
     "metadata": {
      "tags": []
     },
     "output_type": "execute_result"
    }
   ],
   "source": [
    "int(\"11\")"
   ]
  },
  {
   "cell_type": "markdown",
   "metadata": {
    "id": "AxKlwSvEWwPe"
   },
   "source": [
    "#### str()\n",
    "<em>str()</em> converts the value into a string."
   ]
  },
  {
   "cell_type": "code",
   "execution_count": null,
   "metadata": {
    "id": "msQLpozMWwPi",
    "outputId": "9660292a-0797-40fd-d86e-b1ca9ff0061b"
   },
   "outputs": [
    {
     "data": {
      "text/plain": [
       "'2.24'"
      ]
     },
     "execution_count": 134,
     "metadata": {
      "tags": []
     },
     "output_type": "execute_result"
    }
   ],
   "source": [
    "str(2.24)"
   ]
  },
  {
   "cell_type": "code",
   "execution_count": null,
   "metadata": {
    "id": "e2YVfksDWwPj",
    "outputId": "2af0a4bd-9d42-4c8c-c0fb-71cf92609a0a"
   },
   "outputs": [
    {
     "data": {
      "text/plain": [
       "'True'"
      ]
     },
     "execution_count": 135,
     "metadata": {
      "tags": []
     },
     "output_type": "execute_result"
    }
   ],
   "source": [
    "str(True)"
   ]
  },
  {
   "cell_type": "code",
   "execution_count": null,
   "metadata": {
    "id": "RgXqM5RxWwPk",
    "outputId": "f78179c0-6e6f-4b50-e857-5bc837bfa320"
   },
   "outputs": [
    {
     "data": {
      "text/plain": [
       "'False'"
      ]
     },
     "execution_count": 136,
     "metadata": {
      "tags": []
     },
     "output_type": "execute_result"
    }
   ],
   "source": [
    "str(False)"
   ]
  },
  {
   "cell_type": "code",
   "execution_count": null,
   "metadata": {
    "id": "owVkbQJDWwPm",
    "outputId": "b2bdddec-fcca-4b2b-f8ae-d79887f65502"
   },
   "outputs": [
    {
     "data": {
      "text/plain": [
       "'10'"
      ]
     },
     "execution_count": 137,
     "metadata": {
      "tags": []
     },
     "output_type": "execute_result"
    }
   ],
   "source": [
    "str(10)"
   ]
  },
  {
   "cell_type": "markdown",
   "metadata": {
    "id": "NeztNGtGWwP5"
   },
   "source": [
    "<a id=\"print\"> </a>\n",
    "## Python print()"
   ]
  },
  {
   "cell_type": "markdown",
   "metadata": {
    "id": "qqrDXHxnWwP5"
   },
   "source": [
    "<table align=\"left\">\n",
    "    <tr>\n",
    "        <td width=\"15%\">\n",
    "            <img src=\"note.png\">\n",
    "        </td>\n",
    "        <td>\n",
    "            <div align=\"left\", style=\"font-size:120%\">\n",
    "                <font color=\"#21618C\">\n",
    "                    <b>Syntax:<br>\n",
    "                        <br><em> print(*objects, sep=' ', end='\\n', file=sys.stdout, flush=False)</em>\n",
    "                    </b>\n",
    "                    <b><br><br><br><br>print() Parameters:<br>\n",
    "                    <br>*objects - object to be printed. * indicates that there may be more than one object<br>\n",
    "<br>sep - objects are separated by sep. Default value: ' '<br>\n",
    "<br>end - end is printed at last<br>\n",
    "<br>file - must be an object with write(string) method. If omitted it, sys.stdout will be used which prints objects on the screen.<br>\n",
    "<br>flush - If True, the stream is forcibly flushed. Default value: False<br><br>\n",
    "                    </b>\n",
    "                </font>\n",
    "            </div>\n",
    "        </td>\n",
    "    </tr>\n",
    "</table>\n"
   ]
  },
  {
   "cell_type": "code",
   "execution_count": null,
   "metadata": {
    "id": "_V7qmGSkWwP6",
    "outputId": "0ade5162-a529-4a8f-d6aa-7bff2d1fd70c"
   },
   "outputs": [
    {
     "name": "stdout",
     "output_type": "stream",
     "text": [
      "Hello World\n"
     ]
    }
   ],
   "source": [
    "print(\"Hello World\")"
   ]
  },
  {
   "cell_type": "code",
   "execution_count": null,
   "metadata": {
    "id": "mNLpxl-4WwP9",
    "outputId": "a500dadd-2a25-47e4-cfc1-c16908e1fe94"
   },
   "outputs": [
    {
     "name": "stdout",
     "output_type": "stream",
     "text": [
      "x = 2\n"
     ]
    }
   ],
   "source": [
    "# initialize a variable\n",
    "x = 2\n",
    "print(\"x =\", x)              # Here we pass two objects"
   ]
  },
  {
   "cell_type": "markdown",
   "metadata": {
    "id": "6CUwLRcBWwP-"
   },
   "source": [
    "Only object parameter is passed in the above print() function."
   ]
  },
  {
   "cell_type": "markdown",
   "metadata": {
    "id": "XAcxCb-sWwP-"
   },
   "source": [
    "#### print() with separator and end parameters\n",
    "By default, python's print() function ends with a newline. This function comes with a parameter called 'end.' The default value of this parameter is '\\n,' i.e., the new line character. You can end a print statement with any character or string using this parameter.<br>\n",
    "Sometimes you need to print one blank line in your Python program."
   ]
  },
  {
   "cell_type": "code",
   "execution_count": null,
   "metadata": {
    "id": "4QU2h8bsWwP_",
    "outputId": "1196e832-6208-465b-ef42-ef4255e0c939"
   },
   "outputs": [
    {
     "name": "stdout",
     "output_type": "stream",
     "text": [
      "x = 2\n",
      "\n",
      "\n",
      "a = 8j"
     ]
    }
   ],
   "source": [
    "x = 2\n",
    "a = 8\n",
    "print(\"x =\", x, end='\\n\\n\\n')\n",
    "print(\"a =\", 8, end = 'j')"
   ]
  },
  {
   "cell_type": "markdown",
   "metadata": {
    "id": "hoZ-xQxJWwQA"
   },
   "source": [
    "Objects will be separated with what the <em>sep</em> parameter is set to."
   ]
  },
  {
   "cell_type": "code",
   "execution_count": null,
   "metadata": {
    "id": "qqCg0AU6WwQA",
    "outputId": "623855bc-a387-4968-e4e5-3aa3ef8def5c"
   },
   "outputs": [
    {
     "name": "stdout",
     "output_type": "stream",
     "text": [
      "x =$$2\n",
      "a =j8\n"
     ]
    }
   ],
   "source": [
    "x = 2\n",
    "a = 8\n",
    "print(\"x =\", x, sep='$$')\n",
    "print(\"a =\", 8, sep = 'j')"
   ]
  },
  {
   "cell_type": "markdown",
   "metadata": {
    "id": "MnsdtyNjWwQB"
   },
   "source": [
    "<a id=\"uinput\"> </a>\n",
    "## User Input\n",
    "\n",
    "\n",
    "<table align=\"left\">\n",
    "    <tr>\n",
    "        <td width=\"15%\">\n",
    "            <img src=\"note.png\">\n",
    "        </td>\n",
    "        <td>\n",
    "            <div align=\"left\", style=\"font-size:120%\">\n",
    "                <font color=\"#21618C\">\n",
    "                    <b>\n",
    "                        <br>Most programs today use a dialog box as a way of asking the user to provide some type of input.<br>\n",
    "                        <br>There are two functions in Python that you can use to read data from the user:\n",
    "                        <br>1.raw_input()\n",
    "                        <br>2.input() <br>\n",
    "                        <br>You can store the results from them into a variable.\n",
    "                    </b>\n",
    "                </font>\n",
    "            </div>\n",
    "        </td>\n",
    "    </tr>\n",
    "</table>\n"
   ]
  },
  {
   "cell_type": "markdown",
   "metadata": {
    "id": "U39sPjniWwQD"
   },
   "source": [
    "<table align=\"left\">\n",
    "    <tr>\n",
    "        <td width=\"7%\">\n",
    "            <img src=\"caution.png\">\n",
    "        </td>\n",
    "        <td>\n",
    "            <div align=\"left\", style=\"font-size:120%\">\n",
    "                <font color=\"#21618C\">\n",
    "                    <b>raw_input() is deprecated in Python 3. Here we will discuss about the <em>input()</em> function.\n",
    "                    </b>\n",
    "                </font>\n",
    "            </div>\n",
    "        </td>\n",
    "    </tr>\n",
    "</table>"
   ]
  },
  {
   "cell_type": "markdown",
   "metadata": {
    "id": "N4He5BZIWwQE"
   },
   "source": [
    "The Python input() function is used to read data from a standard input such as a keyboard and treats the received data as string. Basically, when we enter digit value, input() in python 3 stores it as string value. So to convert string value to integer value, we will use int() function just as shown below."
   ]
  },
  {
   "cell_type": "code",
   "execution_count": null,
   "metadata": {
    "id": "WIai9bzpWwQE",
    "outputId": "27c26d04-beff-436c-c622-e39189d6b35d"
   },
   "outputs": [
    {
     "name": "stdout",
     "output_type": "stream",
     "text": [
      "Please enter your age: 24\n",
      "24\n"
     ]
    },
    {
     "data": {
      "text/plain": [
       "int"
      ]
     },
     "execution_count": 2,
     "metadata": {
      "tags": []
     },
     "output_type": "execute_result"
    }
   ],
   "source": [
    "age = int(input(\"Please enter your age: \"))\n",
    "print(age)\n",
    "type(age)"
   ]
  },
  {
   "cell_type": "code",
   "execution_count": null,
   "metadata": {
    "id": "DHy3Eo3KWwQF",
    "outputId": "47766786-31fd-4870-d598-4db5cabde973"
   },
   "outputs": [
    {
     "name": "stdout",
     "output_type": "stream",
     "text": [
      "Please enter your name: Mike\n",
      "Mike\n"
     ]
    },
    {
     "data": {
      "text/plain": [
       "str"
      ]
     },
     "execution_count": 3,
     "metadata": {
      "tags": []
     },
     "output_type": "execute_result"
    }
   ],
   "source": [
    "name = input(\"Please enter your name: \")\n",
    "print(name)\n",
    "type(name)"
   ]
  },
  {
   "cell_type": "markdown",
   "metadata": {
    "id": "Wev9Kx6-WwQH"
   },
   "source": [
    "When <em>input()</em> function executes program flow will be stopped until the user has given an input. The message displayed on the output screen to ask a user to enter input value is optional i.e. the prompt, will be printed on the screen is optional.\n",
    "Whatever you enter as input, input function convert it into a string. If you enter an integer value still input() function convert it into a string. You need to explicitly convert it into an integer in your code using typecasting."
   ]
  },
  {
   "cell_type": "markdown",
   "metadata": {
    "id": "TgPxKm5oWwQH"
   },
   "source": [
    "<a id=\"oper\"> </a>\n",
    "## Python Operators\n",
    "\n",
    "\n",
    "<table align=\"left\">\n",
    "    <tr>\n",
    "        <td width=\"15%\">\n",
    "            <img src=\"note.png\">\n",
    "        </td>\n",
    "        <td>\n",
    "            <div align=\"left\", style=\"font-size:120%\">\n",
    "                <font color=\"#21618C\">\n",
    "                    <b>\n",
    "                        <br>Operators are special symbols in Python that carry out arithmetic or logical computation. The value that the operator operates on is called the operand.<br>\n",
    "                        <br>Python Operator falls into following categories:\n",
    "                        <br>1. Arithmetic Operator\n",
    "                        <br>2. Comparison Operator\n",
    "                        <br>3. Assignment Operator\n",
    "                        <br>4. Logical Operator\n",
    "                        <br>5. Membership Operator\n",
    "                        <br>6. Bitwise Operator\n",
    "                    </b>\n",
    "                </font>\n",
    "            </div>\n",
    "        </td>\n",
    "    </tr>\n",
    "</table>"
   ]
  },
  {
   "cell_type": "markdown",
   "metadata": {
    "id": "-Ta6RTyDWwQI"
   },
   "source": [
    "<a id=\"arith\"> </a>\n",
    "### Arithmetic Operator\n",
    "Arithmetic operators are used to perform mathematical operations like addition, subtraction, multiplication etc."
   ]
  },
  {
   "cell_type": "code",
   "execution_count": null,
   "metadata": {
    "id": "Q-pEFy-BWwQI",
    "outputId": "7115131f-0b80-4e07-ad31-4a338867dc69"
   },
   "outputs": [
    {
     "name": "stdout",
     "output_type": "stream",
     "text": [
      "a + b = 14\n",
      "a - b = 10\n",
      "a * b = 24\n",
      "a % b = 0\n",
      "a / b = 6.0\n",
      "a // b = 6\n",
      "a ** b = 144\n"
     ]
    }
   ],
   "source": [
    "a = 12\n",
    "b = 2\n",
    "# '+' Operator\n",
    "print('a + b =',a+b)                  # Prints addition of a and b\n",
    "\n",
    "# '-' Operator\n",
    "print('a - b =',a-b)                  # Prints subtraction of  a and b\n",
    "\n",
    "# '*' Operator\n",
    "print('a * b =',a*b)                  # Prints multiplication of  a and b\n",
    "\n",
    "# '%' Operator\n",
    "print('a % b =',a%b)                  # Prints remainder of division between a and b\n",
    "\n",
    "# '/' Operator\n",
    "print('a / b =',a/b)                  # Prints division of  a and b\n",
    "\n",
    "# '//' Operator\n",
    "print('a // b =',a//b)                # Prints the interger value of the division between a and b \n",
    "\n",
    "# '**' Operator\n",
    "print('a ** b =',a**b)                # Prints the result of a to the power b\n"
   ]
  },
  {
   "cell_type": "markdown",
   "metadata": {
    "id": "5E-kgOQyWwQJ"
   },
   "source": [
    "<a id=\"comp\"> </a>\n",
    "### Comparison Operator\n",
    "Comparison Operator carries out the comparison between operands. They tell us whether an operand is greater than the other, lesser, equal, or a combination of those. It either returns <em>True</em> or <em>False</em> according to the condition."
   ]
  },
  {
   "cell_type": "code",
   "execution_count": null,
   "metadata": {
    "id": "ei8_yWjXWwQJ",
    "outputId": "6b6a8d5f-79f2-4004-f746-d12e8e0d3296"
   },
   "outputs": [
    {
     "name": "stdout",
     "output_type": "stream",
     "text": [
      "a > b  is False\n",
      "a < b  is True\n",
      "a == b  is False\n",
      "a != b  is True\n",
      "a >= b  is False\n",
      "a <= b  is True\n"
     ]
    }
   ],
   "source": [
    "a = 10\n",
    "b = 20\n",
    "\n",
    "# '>' Operator\n",
    "print('a > b  is',a>b)                 # Prints False since a is smaller than b\n",
    "\n",
    "# '<' Operator\n",
    "print('a < b  is',a<b)                 # Prints True since a is smaller than b\n",
    "\n",
    "# '==' Operator\n",
    "print('a == b  is',a==b)                 # Prints False since a and b are not equal\n",
    "\n",
    "# '!=' Operator\n",
    "print('a != b  is',a!=b)                 # Prints True since a is not equal to b\n",
    "\n",
    "# '>=' Operator\n",
    "print('a >= b  is',a>=b)                 # Prints False since a is not smaller nor equal to b\n",
    "\n",
    "# '<= y' Operator\n",
    "print('a <= b  is',a<=b)                 # Prints True since a is smaller than b"
   ]
  },
  {
   "cell_type": "markdown",
   "metadata": {
    "id": "DHAWZfnRWwQL"
   },
   "source": [
    "<a id=\"assign\"> </a>\n",
    "### Assignment Operator\n",
    "An assignment operator assigns a value to a variable. It may manipulate the value by a factor before assigning it."
   ]
  },
  {
   "cell_type": "code",
   "execution_count": null,
   "metadata": {
    "id": "7WeHVcSIWwQL",
    "outputId": "caf34cf1-cc91-4622-e511-214f4a26d833"
   },
   "outputs": [
    {
     "name": "stdout",
     "output_type": "stream",
     "text": [
      "x =  5\n",
      "Updated value of x after (x += 5) is 10\n",
      "Updated value of x after (x -=2) is 8\n",
      "Updated value of x after (x *= 2) is 16\n",
      "Updated value of x after (x /= 2) is 4.0\n"
     ]
    }
   ],
   "source": [
    "# '=' Operator\n",
    "x = 5                                 # Assigns the value to the variable on the left\n",
    "print(\"x = \", x)\n",
    "\n",
    "# '+=' Operator                 \n",
    "x += 5  # x=x+5 \n",
    "print(\"Updated value of x after (x += 5) is\", x)     # Adds the values on either side and assigns it to the expression on the left. x+=5 is the same as x=x+5.\n",
    "\n",
    "# '-=' Operator\n",
    "x -=2\n",
    "print(\"Updated value of x after (x -=2) is\", x)     # Subtracts 2 from the latest value of x and assigns it to x(which is 10).\n",
    "\n",
    "# '*=' Operator\n",
    "x *= 2\n",
    "print(\"Updated value of x after (x *= 2) is\", x)     # Multiplies the current value of x with 2 and assigns the result to the same variable\n",
    "\n",
    "# '/=' Operator\n",
    "x /= 4 \n",
    "print('Updated value of x after (x /= 2) is', x)     # Divides the current value of x with 4 and assigns the result to the same variable\n"
   ]
  },
  {
   "cell_type": "markdown",
   "metadata": {
    "id": "KhOFmuWmWwQM"
   },
   "source": [
    "<em>i+=1 is the same as i=i+1, whereas i=+1 just means i=(+1)</em>"
   ]
  },
  {
   "cell_type": "markdown",
   "metadata": {
    "id": "OeuiSmbLWwQM"
   },
   "source": [
    "<a id=\"logic\"> </a>\n",
    "### Logical Operators\n",
    "Logical operators are like conjunctions that you can use to combine more than one condition. We have three Python logical operator – **<em>and</em>**, **<em>or</em>**, and **<em>not</em>** that come under python operators."
   ]
  },
  {
   "cell_type": "markdown",
   "metadata": {
    "id": "_8T3z6drWwQM"
   },
   "source": [
    "#### 'and' Operator\n",
    "If the conditions on both the sides of the operator are true, then the expression as a whole is true."
   ]
  },
  {
   "cell_type": "code",
   "execution_count": null,
   "metadata": {
    "id": "vvanF5POWwQM",
    "outputId": "b14d031c-1c4a-4373-9279-40ab376eead0"
   },
   "outputs": [
    {
     "name": "stdout",
     "output_type": "stream",
     "text": [
      "True\n"
     ]
    }
   ],
   "source": [
    "x = 11\n",
    "a = x>10 and x<20\n",
    "print(a)"
   ]
  },
  {
   "cell_type": "markdown",
   "metadata": {
    "id": "moUtA-A7WwQN"
   },
   "source": [
    "Here both the conditions are satisfied. Therefore we have True as the output."
   ]
  },
  {
   "cell_type": "code",
   "execution_count": null,
   "metadata": {
    "id": "vCxHTtWpWwQN",
    "outputId": "5d3d2265-93ca-47f0-f89b-8c4004d6d8c9"
   },
   "outputs": [
    {
     "name": "stdout",
     "output_type": "stream",
     "text": [
      "False\n"
     ]
    }
   ],
   "source": [
    "x = 11\n",
    "a = x>10 and x==12\n",
    "print(a)"
   ]
  },
  {
   "cell_type": "markdown",
   "metadata": {
    "id": "_JFu5BW1WwQO"
   },
   "source": [
    "Here one of the condition is not satisfied. Therefore we have False as the output."
   ]
  },
  {
   "cell_type": "markdown",
   "metadata": {
    "id": "ZJaxiiqkWwQO"
   },
   "source": [
    "#### 'or' Operator\n",
    "The expression is false only if both the statements around the operator are false. Otherwise, it is true."
   ]
  },
  {
   "cell_type": "code",
   "execution_count": null,
   "metadata": {
    "id": "96UjEwpGWwQO",
    "outputId": "03265f67-9be8-4aad-ff98-c0a1677596c0"
   },
   "outputs": [
    {
     "name": "stdout",
     "output_type": "stream",
     "text": [
      "True\n"
     ]
    }
   ],
   "source": [
    "x = 11\n",
    "a = x>10 or x==20\n",
    "print(a)"
   ]
  },
  {
   "cell_type": "markdown",
   "metadata": {
    "id": "8veZvQOoWwQP"
   },
   "source": [
    "Here one of the condition is satisfied. Therefore we have True as the output."
   ]
  },
  {
   "cell_type": "code",
   "execution_count": null,
   "metadata": {
    "id": "uVnlov7rWwQP",
    "outputId": "ec5230e5-8cb8-4cf5-a872-ddd653404b01"
   },
   "outputs": [
    {
     "name": "stdout",
     "output_type": "stream",
     "text": [
      "False\n"
     ]
    }
   ],
   "source": [
    "x = 11\n",
    "a = x>12 or x==20\n",
    "print(a)"
   ]
  },
  {
   "cell_type": "markdown",
   "metadata": {
    "id": "WZFPqv9AWwQQ"
   },
   "source": [
    "None of the above condition is True. Therefore we have False as the output"
   ]
  },
  {
   "cell_type": "markdown",
   "metadata": {
    "id": "3XszFP-sWwQQ"
   },
   "source": [
    "#### 'not' Operator\n",
    "It converts True to False, and False to True. So, basically, <em>not</em> inverts the Boolean value of an expression"
   ]
  },
  {
   "cell_type": "code",
   "execution_count": null,
   "metadata": {
    "id": "Nw2WijmEWwQQ",
    "outputId": "02a7270f-6adb-42cf-b149-57a339f9c079"
   },
   "outputs": [
    {
     "name": "stdout",
     "output_type": "stream",
     "text": [
      "True\n"
     ]
    }
   ],
   "source": [
    "x = 11\n",
    "a = x>12 or x==20\n",
    "print(not a)"
   ]
  },
  {
   "cell_type": "markdown",
   "metadata": {
    "id": "HbmsYtCQWwQR"
   },
   "source": [
    "Since both the conditions are false in the above code, False is stored in <em>a</em> and finally the not operator inverts False to True"
   ]
  },
  {
   "cell_type": "markdown",
   "metadata": {
    "id": "xPwAxYR1WwQR"
   },
   "source": [
    "<a id=\"member\"> </a>\n",
    "### Membership Operator"
   ]
  },
  {
   "cell_type": "markdown",
   "metadata": {
    "id": "KmsV_DHtWwQR"
   },
   "source": [
    "Membership operators tests whether a value is a member of a sequence. The sequence may be a list, a string, a tuple, or a dictionary. <br>\n",
    "<br><em>in</em> and <em>not in</em> are the membership operators in Python. The output is in terms of True or False."
   ]
  },
  {
   "cell_type": "code",
   "execution_count": null,
   "metadata": {
    "id": "W3E1ifs3WwQS",
    "outputId": "6636443b-f68d-4db9-b912-905c77ed8ce5"
   },
   "outputs": [
    {
     "name": "stdout",
     "output_type": "stream",
     "text": [
      "True\n",
      "False\n"
     ]
    }
   ],
   "source": [
    "# String\n",
    "a = 'Great Learning'\n",
    "\n",
    "# Output: True\n",
    "print('L' in a)\n",
    "\n",
    "# Output: False\n",
    "print('O' in a)"
   ]
  },
  {
   "cell_type": "markdown",
   "metadata": {
    "id": "Asg3lpSKWwQU"
   },
   "source": [
    "<a id=\"bitwise\"> </a>\n",
    "### Bitwise Operator"
   ]
  },
  {
   "cell_type": "markdown",
   "metadata": {
    "id": "_WB6s9nCWwQV"
   },
   "source": [
    "These operators perform bit by bit operations on the operands. "
   ]
  },
  {
   "cell_type": "code",
   "execution_count": null,
   "metadata": {
    "id": "yGIWyis5WwQV",
    "outputId": "fda6505f-ef76-43cb-d8a6-c57b907e6784"
   },
   "outputs": [
    {
     "name": "stdout",
     "output_type": "stream",
     "text": [
      "2\n",
      "15\n",
      "13\n",
      "-11\n",
      "40\n",
      "2\n"
     ]
    }
   ],
   "source": [
    "a = 10\n",
    "b = 7\n",
    "\n",
    "# Bitwise and(&) operator\n",
    "print(a & b)              # binary for 10 is 1010 and binary for 7 is 111. If we & each bit we get 0010. which is 2\n",
    "\n",
    "# Bitwise or(|) operator\n",
    "print(a | b)              # binary for 10 is 1010 and binary for 7 is 111. If we | each bit we get 1111, which is 15\n",
    "\n",
    "# Bitwise xor(^) operator\n",
    "print(a^b)                # binary for 10 is 1010 and binary for 7 is 111. If we ~ each bit we get 1101, which is 13\n",
    "\n",
    "# Bitwise One’s Complement(~) operator. Python One's complement of a number ‘A’ is equal to -(A+1)\n",
    "print(~a)                 # binary for 10 is 1010. One's complement for 1010 is -(1010+1) --> -(1011), which is -11\n",
    "\n",
    "# Bitwise left shift(<<) operator \n",
    "print(a<<2)               # binary for 10 is 1010 and <<2 will convert 1010 to 101000 which is 40\n",
    "\n",
    "# Bitwise left shift(<<) operator \n",
    "print(a>>2)               # binary for 10 is 1010 and >>2 will convert 1010 to 10 which is 2"
   ]
  },
  {
   "cell_type": "markdown",
   "metadata": {
    "id": "EYKC4PTRWwQW"
   },
   "source": [
    "<a id=\"pfc\"> </a>\n",
    "## Python flow control\n",
    "<table align=\"left\">\n",
    "    <tr>\n",
    "        <td width=\"15%\">\n",
    "            <img src=\"note.png\">\n",
    "        </td>\n",
    "        <td>\n",
    "            <div align=\"left\", style=\"font-size:120%\">\n",
    "                <font color=\"#21618C\">\n",
    "                    <b>\n",
    "                        <br>A program’s control flow is the order in which the program’s code executes. The control flow of a Python program is regulated by: <br>\n",
    "                        <br>1. Conditional Statements\n",
    "                        <br>2. Loops, and \n",
    "                        <br>3. Function Calls\n",
    "                    </b>\n",
    "                </font>\n",
    "            </div>\n",
    "        </td>\n",
    "    </tr>\n",
    "</table>"
   ]
  },
  {
   "cell_type": "markdown",
   "metadata": {
    "id": "M7-agtVYWwQW"
   },
   "source": [
    "<td width=\"15%\">\n",
    "            <img src=\"control.png\">\n",
    "</td>"
   ]
  },
  {
   "cell_type": "markdown",
   "metadata": {
    "id": "V1YcJ963WwQW"
   },
   "source": [
    "The **selection** structure tests a condition, then executes one sequence of statements instead of another, depending on whether the condition is true or false. A condition is any variable or expression that returns a BOOLEAN value (TRUE or FALSE).<br><br>\n",
    "The **iteration** structure executes a sequence of statements repeatedly as long as a condition holds true.<br><br>\n",
    "The **sequence** structure simply executes a sequence of statements in the order in which they occur.<br><br>"
   ]
  },
  {
   "cell_type": "markdown",
   "metadata": {
    "id": "Khr9cLynWwQX"
   },
   "source": [
    "<a id=\"condition\"> </a>\n",
    "### The if- statement\n",
    "You might want to execute some statements only if some condition holds, or choose statements to execute depending on several mutually exclusive conditions. The Python compound statement if, which uses if, elif, and else clauses, lets you conditionally execute blocks of statements."
   ]
  },
  {
   "cell_type": "markdown",
   "metadata": {
    "id": "o9FIHv6iWwQX"
   },
   "source": [
    "#### Syntax:\n",
    "<em>if test_expression1:\n",
    "<br> &emsp;&emsp;statement(s)</br>\n",
    "<br>elif test_expression2:\n",
    "<br>&emsp;&emsp;    statement(s)\n",
    "<br>elif test_expression3:\n",
    "<br>&emsp;&emsp;    statement(s)\n",
    "<br>.\n",
    "<br>.\n",
    "<br>.\n",
    "<br>else:\n",
    " <br>&emsp;&emsp;   statement(s)"
   ]
  },
  {
   "cell_type": "code",
   "execution_count": null,
   "metadata": {
    "id": "7LwvSrRKWwQX",
    "outputId": "1621129d-c727-4ceb-c3cf-cc77e3e8f5f9"
   },
   "outputs": [
    {
     "name": "stdout",
     "output_type": "stream",
     "text": [
      "x is positive and odd\n"
     ]
    }
   ],
   "source": [
    "x = 5\n",
    "if x < 0: \n",
    "    print (\"x is negative\")\n",
    "elif x % 2: \n",
    "    print (\"x is positive and odd\")\n",
    "else: \n",
    "    print (\"x is even and non-negative\")"
   ]
  },
  {
   "cell_type": "markdown",
   "metadata": {
    "id": "WtJSHeZQWwQZ"
   },
   "source": [
    "<a id=\"while\"> </a>\n",
    "### The while- Loop\n",
    "A while loop is a control flow statement that allows code to be executed repeatedly based on a given Boolean condition. The while loop can be thought of as a repeating if statement."
   ]
  },
  {
   "cell_type": "markdown",
   "metadata": {
    "id": "84MGRyPAWwQZ"
   },
   "source": [
    "#### Syntax:\n",
    "<em>while test_expression:\n",
    "<br> &emsp;&emsp;statement(s)\n",
    "</em>\n",
    "<br><br>First, test_expression, which is known as the loop condition, is evaluated. If the condition is false, the while statement ends. If the loop condition is satisfied, the statement or statements that comprise the loop body are executed. When the loop body finishes executing, the loop condition is evaluated again, to see if another iteration should be performed. This process continues until the loop condition is false, at which point the while statement ends."
   ]
  },
  {
   "cell_type": "code",
   "execution_count": null,
   "metadata": {
    "id": "kHHgfi0oWwQa",
    "outputId": "8fd74e6e-abce-4de2-fc69-039b89677a3f"
   },
   "outputs": [
    {
     "name": "stdout",
     "output_type": "stream",
     "text": [
      "The sum is 55\n"
     ]
    }
   ],
   "source": [
    "n = 10\n",
    "\n",
    "# initialize sum and counter\n",
    "sum = 0\n",
    "i = 1\n",
    "\n",
    "while i <= n:\n",
    "    sum = sum + i\n",
    "    i = i+1    # update counter\n",
    "\n",
    "# print the sum\n",
    "print(\"The sum is\", sum)"
   ]
  },
  {
   "cell_type": "markdown",
   "metadata": {
    "id": "g5CO95wpWwQb"
   },
   "source": [
    "<a id=\"for\"> </a>\n",
    "### The for- Loop\n",
    "The for loop in Python is used to iterate over a sequence (list, tuple, string) or other iterable objects. Iterating over a sequence is called traversal."
   ]
  },
  {
   "cell_type": "markdown",
   "metadata": {
    "id": "H3aE0oCpWwQc"
   },
   "source": [
    "#### Syntax:\n",
    "<em>for iterator in sequence:\n",
    "<br> &emsp;&emsp;statement(s)\n",
    "</em>"
   ]
  },
  {
   "cell_type": "code",
   "execution_count": null,
   "metadata": {
    "id": "1OtL6cydWwQc",
    "outputId": "b6a9c654-1afe-467f-f909-697d6cf06213"
   },
   "outputs": [
    {
     "name": "stdout",
     "output_type": "stream",
     "text": [
      "I\n",
      " \n",
      "l\n",
      "o\n",
      "v\n",
      "e\n",
      " \n",
      "P\n",
      "y\n",
      "t\n",
      "h\n",
      "o\n",
      "n\n",
      " \n"
     ]
    }
   ],
   "source": [
    "string = \"I love Python \"\n",
    "for i in string:\n",
    "    print(i)"
   ]
  },
  {
   "cell_type": "markdown",
   "metadata": {
    "id": "hW5w1qTGWwQd"
   },
   "source": [
    "#### The range() function"
   ]
  },
  {
   "cell_type": "markdown",
   "metadata": {
    "id": "Yjf8GMD_WwQd"
   },
   "source": [
    "We can generate a sequence of numbers using <em>range()</em> function. <em>range(10)</em> will generate numbers from 0 to 9 (10 numbers). We can also define the start, stop and step size as range(start,stop,step size). step size defaults to 1 if not provided. \n",
    "<br><br>\n",
    "This function does not store all the values in memory, it would be inefficient. So it remembers the start, stop, step size and generates the next number on the go.<br>\n",
    "\n"
   ]
  },
  {
   "cell_type": "code",
   "execution_count": null,
   "metadata": {
    "id": "XOLjZY1KWwQd",
    "outputId": "f566f3df-22c7-4108-ca93-62cb854712eb"
   },
   "outputs": [
    {
     "data": {
      "text/plain": [
       "range(0, 10)"
      ]
     },
     "execution_count": 9,
     "metadata": {
      "tags": []
     },
     "output_type": "execute_result"
    }
   ],
   "source": [
    "range(0, 10)"
   ]
  },
  {
   "cell_type": "markdown",
   "metadata": {
    "id": "oEFq8qddWwQe"
   },
   "source": [
    "We can use the <em>range()</em> function in for loops to iterate through a sequence of numbers. It can be combined with the <em>len()</em> function to iterate though a sequence using indexing."
   ]
  },
  {
   "cell_type": "code",
   "execution_count": null,
   "metadata": {
    "id": "J38Qn6eVWwQe",
    "outputId": "5bbb124c-0e88-4367-f05c-881891bfc740",
    "scrolled": true
   },
   "outputs": [
    {
     "name": "stdout",
     "output_type": "stream",
     "text": [
      "0\n",
      "1\n",
      "2\n",
      "3\n",
      "4\n",
      "5\n",
      "6\n",
      "7\n",
      "8\n",
      "9\n"
     ]
    }
   ],
   "source": [
    "for i in range(10):\n",
    "    print(i)"
   ]
  },
  {
   "cell_type": "code",
   "execution_count": null,
   "metadata": {
    "id": "jFRZDbMVWwQf",
    "outputId": "2943a716-4534-4d24-d452-7e94ce2875ed"
   },
   "outputs": [
    {
     "name": "stdout",
     "output_type": "stream",
     "text": [
      "P\n",
      "y\n",
      "t\n",
      "h\n",
      "o\n",
      "n\n",
      " \n",
      "P\n",
      "r\n",
      "o\n",
      "g\n",
      "r\n",
      "a\n",
      "m\n",
      "m\n",
      "i\n",
      "n\n",
      "g\n"
     ]
    }
   ],
   "source": [
    "string = \"Python Programming\"\n",
    "\n",
    "# iterate over the string using index\n",
    "for i in range(len(string)):\n",
    "    print(string[i])"
   ]
  },
  {
   "cell_type": "markdown",
   "metadata": {
    "id": "mgffaWTOWwQh"
   },
   "source": [
    "<a id=\"pseudo\"> </a>\n",
    "## Pseudocode\n",
    "<table align=\"left\">\n",
    "    <tr>\n",
    "        <td width=\"15%\">\n",
    "            <img src=\"note.png\">\n",
    "        </td>\n",
    "        <td>\n",
    "            <div align=\"left\", style=\"font-size:120%\">\n",
    "                <font color=\"#21618C\">\n",
    "                    <b>\n",
    "                        <br>Before you write a piece of computer code, you have to know what the program is supposed to do. It is a good idea to write it in a simple way first to ensure you have included everything you need. The best way to set this up is by using pseudocode. <br>\n",
    "                    <br><br>Pseudocode is a simple way of writing programming code in English. It is not actual programming language. It uses short phrases to write code for programs before you actually create it in a specific language. Once you know what the program is about and how it will function, then you can use pseudocode to create statements to achieve the required results for your program.<br>\n",
    "                        \n",
    "                    </b>\n",
    "                </font>\n",
    "            </div>\n",
    "        </td>\n",
    "    </tr>\n",
    "</table>"
   ]
  },
  {
   "cell_type": "markdown",
   "metadata": {
    "id": "rH1PPKXmWwQh"
   },
   "source": [
    "**Pseudocode to create a program to add 2 numbers together and display the result.<br>**\n",
    "<em>\n",
    "<br>Read two numbers, A, B from user \n",
    "<br>Add the numbers in variable A and B\n",
    "<br>Print Sum<br>\n",
    "</em>"
   ]
  },
  {
   "cell_type": "markdown",
   "metadata": {
    "id": "2mch_wF3WwQi"
   },
   "source": [
    "Pseudocode can be written how you want. But some companies use specific pseudocode rules to keep everyone in the company on the same page. "
   ]
  },
  {
   "cell_type": "markdown",
   "metadata": {
    "id": "acdtIzq9WwQi"
   },
   "source": [
    "**Pseudocode to create a program to check if a student has cleared the exam or not.<br>**\n",
    "<em>\n",
    "<br>Take students grade from the user \n",
    "<br>If student's grade is greater than or equal to 60, print \"pass\"\n",
    "<br>Otherwise print \"fail\"<br>\n",
    "</em>"
   ]
  },
  {
   "cell_type": "markdown",
   "metadata": {
    "id": "bWByFaT6WwQi"
   },
   "source": [
    "**Pseudocode to create a program to print the average marks of ten students**\n",
    "\n",
    "<em>\n",
    "<br>Set total to zero \n",
    "<br>Set grade counter to one\n",
    "<br>While grade counter is less than or equal to ten\n",
    "<br>&emsp;&emsp;Input the next grade\n",
    "<br>&emsp;&emsp;Add the grade into the total\n",
    "<br>Set the class average to the total divided by ten\n",
    "<br>Print the class average.\n",
    "\n",
    "\n",
    "</em>"
   ]
  },
  {
   "cell_type": "code",
   "execution_count": null,
   "metadata": {
    "id": "JCv174TQWwQi"
   },
   "outputs": [],
   "source": []
  }
 ],
 "metadata": {
  "colab": {
   "collapsed_sections": [
    "IZJAzajfWwOF",
    "U6hFAQM8WwOF",
    "kcwZsEBnWwOL",
    "FSSMkUsYWwOQ",
    "apmbFzZHWwOT",
    "T41pYrW8WwOX",
    "pfuknDsgF9Rn",
    "boCcUiw1WwPK",
    "ECm0OUL8WwPS",
    "AxKlwSvEWwPe",
    "XAcxCb-sWwP-",
    "-Ta6RTyDWwQI",
    "5E-kgOQyWwQJ",
    "DHAWZfnRWwQL",
    "OeuiSmbLWwQM",
    "_8T3z6drWwQM",
    "ZJaxiiqkWwQO",
    "3XszFP-sWwQQ",
    "xPwAxYR1WwQR",
    "Asg3lpSKWwQU",
    "Khr9cLynWwQX",
    "o9FIHv6iWwQX",
    "WtJSHeZQWwQZ",
    "84MGRyPAWwQZ",
    "g5CO95wpWwQb",
    "H3aE0oCpWwQc",
    "hW5w1qTGWwQd"
   ],
   "name": "ITP-Day 1_FNB.ipynb",
   "provenance": []
  },
  "kernelspec": {
   "display_name": "Python 3",
   "language": "python",
   "name": "python3"
  },
  "language_info": {
   "codemirror_mode": {
    "name": "ipython",
    "version": 3
   },
   "file_extension": ".py",
   "mimetype": "text/x-python",
   "name": "python",
   "nbconvert_exporter": "python",
   "pygments_lexer": "ipython3",
   "version": "3.8.5"
  }
 },
 "nbformat": 4,
 "nbformat_minor": 1
}
